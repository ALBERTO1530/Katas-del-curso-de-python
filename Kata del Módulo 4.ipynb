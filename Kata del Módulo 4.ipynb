{
  "cells": [
    {
      "cell_type": "markdown",
      "metadata": {
        "id": "MPHUe_ctj0QQ"
      },
      "source": [
        "# Ejercicio 1: Transformar cadenas\n",
        "Hay varias operaciones que puedes realizar en las cadenas cuando las manipulamos. En este ejercicio, usarás métodos de cadena para modificar el texto con hechos sobre la Luna y luego extraerás información para crear un breve resumen.\n"
      ]
    },
    {
      "cell_type": "markdown",
      "metadata": {
        "id": "gtOiLQj_j0QX"
      },
      "source": [
        "El texto con el que trabajarás es el siguiente: "
      ]
    },
    {
      "cell_type": "code",
      "execution_count": 22,
      "metadata": {
        "id": "SxQPteIBj0QY"
      },
      "outputs": [],
      "source": [
        "text = \"\"\"Interesting facts about the Moon. The Moon is Earth's only satellite. There are several interesting facts about the Moon and how it affects life here on Earth. \n",
        "On average, the Moon moves 4cm away from the Earth every year. This yearly drift is not significant enough to cause immediate effects on Earth. The highest daylight temperature of the Moon is 127 C.\"\"\""
      ]
    },
    {
      "cell_type": "markdown",
      "metadata": {
        "id": "qTs6sv-zj0Qb"
      },
      "source": [
        "Primero, divide el texto en cada oración para trabajar con su contenido:"
      ]
    },
    {
      "cell_type": "code",
      "execution_count": 43,
      "metadata": {
        "colab": {
          "base_uri": "https://localhost:8080/"
        },
        "id": "wjgDM6Vkj0Qc",
        "outputId": "9d4d7891-ae34-4ae5-8397-e7e102da68e8"
      },
      "outputs": [
        {
          "data": {
            "text/plain": [
              "[\"Interesting facts about the Moon.\\n The Moon is Earth's only satellite.\\n There are several interesting facts about the Moon and how it affects life here on Earth.\\n \\nOn average, the Moon moves 4cm away from the Earth every year.\\n This yearly drift is not significant enough to cause immediate effects on Earth.\\n The highest daylight temperature of the Moon is 127 C.\"]"
            ]
          },
          "execution_count": 43,
          "metadata": {},
          "output_type": "execute_result"
        }
      ],
      "source": [
        "# Añade el código necesario\n",
        "#Solución\n",
        "\n",
        "new_text = text.split('. ')\n",
        "new_text\n"
      ]
    },
    {
      "cell_type": "code",
      "execution_count": 42,
      "metadata": {
        "colab": {
          "base_uri": "https://localhost:8080/"
        },
        "id": "O0j_f65VlZb4",
        "outputId": "e1027911-c1ae-48bc-fc03-a55ed02862d0"
      },
      "outputs": [
        {
          "name": "stdout",
          "output_type": "stream",
          "text": [
            "Interesting facts about the Moon.\n",
            " The Moon is Earth's only satellite.\n",
            " There are several interesting facts about the Moon and how it affects life here on Earth.\n",
            " \n",
            "On average, the Moon moves 4cm away from the Earth every year.\n",
            " This yearly drift is not significant enough to cause immediate effects on Earth.\n",
            " The highest daylight temperature of the Moon is 127 C.\n"
          ]
        }
      ],
      "source": [
        "#otra forma de hacerlo\n",
        "text = \"\"\"Interesting facts about the Moon.\\n The Moon is Earth's only satellite.\\n There are several interesting facts about the Moon and how it affects life here on Earth.\\n \n",
        "On average, the Moon moves 4cm away from the Earth every year.\\n This yearly drift is not significant enough to cause immediate effects on Earth.\\n The highest daylight temperature of the Moon is 127 C.\"\"\"\n",
        "print(text)"
      ]
    },
    {
      "cell_type": "markdown",
      "metadata": {
        "id": "fuHZHuCwj0Qd"
      },
      "source": [
        "Ahora, define algunas palabras clave para búsqueda que te ayudarán a determinar si una oración contiene un hecho."
      ]
    },
    {
      "cell_type": "code",
      "execution_count": 44,
      "metadata": {
        "id": "Vs54V79Bj0Qf"
      },
      "outputs": [],
      "source": [
        "# Define las palabras pista: average, temperature y distance suenan bien\n",
        "#Solución\n",
        "palabaras_pista=[\"average\", \"temperature\", \"distance\"]"
      ]
    },
    {
      "cell_type": "markdown",
      "metadata": {
        "id": "HVXb1jTSj0Qg"
      },
      "source": [
        "Cre un bucle para imprimir solo datos sobre la Luna que estén relacionados con las palabras clave definidas anteriormente:"
      ]
    },
    {
      "cell_type": "code",
      "execution_count": 45,
      "metadata": {
        "colab": {
          "base_uri": "https://localhost:8080/"
        },
        "id": "rEUVz9lCj0Qg",
        "outputId": "57a49f39-8240-4324-f21f-3ab304f6ab18"
      },
      "outputs": [
        {
          "name": "stdout",
          "output_type": "stream",
          "text": [
            "Interesting facts about the Moon.\n",
            " The Moon is Earth's only satellite.\n",
            " There are several interesting facts about the Moon and how it affects life here on Earth.\n",
            " \n",
            "On average, the Moon moves 4cm away from the Earth every year.\n",
            " This yearly drift is not significant enough to cause immediate effects on Earth.\n",
            " The highest daylight temperature of the Moon is 127 C.\n"
          ]
        }
      ],
      "source": [
        "# Ciclo for para recorrer la cadena\n",
        "#Solución\n",
        "\n",
        "for sentence in new_text:\n",
        "    for palabra_pista in palabaras_pista:\n",
        "        if palabra_pista in sentence:\n",
        "            print(sentence)\n",
        "            break\n",
        "\n"
      ]
    },
    {
      "cell_type": "markdown",
      "metadata": {
        "id": "bIwWNnnwj0Qi"
      },
      "source": [
        "Finalmente, actualiza el bucle(ciclo) para cambiar _C_ a _Celsius_:"
      ]
    },
    {
      "cell_type": "code",
      "execution_count": 46,
      "metadata": {
        "colab": {
          "base_uri": "https://localhost:8080/"
        },
        "id": "XnAR3Rd_j0Qi",
        "outputId": "2363e8e8-ac8b-4a95-fd95-9959c0326b73"
      },
      "outputs": [
        {
          "name": "stdout",
          "output_type": "stream",
          "text": [
            "Interesting facts about the Moon.\n",
            " The Moon is Earth's only satellite.\n",
            " There are several interesting facts about the Moon and how it affects life here on Earth.\n",
            " \n",
            "On average, the Moon moves 4cm away from the Earth every year.\n",
            " This yearly drift is not significant enough to cause immediate effects on Earth.\n",
            " The highest daylight temperature of the Moon is 127 Celsius.\n"
          ]
        }
      ],
      "source": [
        "# Ciclo para cambiar C a Celsius\n",
        "#Solución\n",
        "\n",
        "for sentence in new_text:\n",
        "    for palabra_pista in palabaras_pista:\n",
        "        if palabra_pista in sentence:\n",
        "            print(sentence.replace(' C', ' Celsius'))\n",
        "            break\n"
      ]
    },
    {
      "cell_type": "markdown",
      "metadata": {
        "id": "tm648wRzj0Ql"
      },
      "source": [
        "> Recuerda: Lo importante es intentarlo, puedes auxiliarte de internet, libros, etc. El objetivo de una kata es la comprobación de la comprensión de la lección y su aplicación inmediata a la resolución de problemas. Go for it!"
      ]
    },
    {
      "cell_type": "markdown",
      "metadata": {
        "id": "Aiv69lRDj0Ql"
      },
      "source": [
        "# Ejercicio 2: Formateando Cadenas\n",
        "\n",
        "Saber cómo dar formato a las cadenas es esencial cuando se presenta información de un programa. Hay algunas maneras diferentes de lograr esto en Python. En este ejercicio, se utilizan variables que contienen datos clave sobre la gravedad en varias lunas y luego se utilizan para dar formato e imprimir la información.\n",
        "\n",
        "El formato tiene que acomodar información sobre otras lunas, por lo que debe ser genérico.\n",
        "\n",
        "En lugar de reemplazar las variables en una cadena larga como parte de un párrafo, utiliza la información para presentarla en un formato tabular. El resultado debería verse así:\n",
        "\n",
        "```\n",
        "Gravity Facts about Ganymede\n",
        "-------------------------------------------------------------------------------\n",
        "Planet Name: Mars\n",
        "Gravity on Ganymede: 1.4300000000000002 m/s2\n",
        "```"
      ]
    },
    {
      "cell_type": "code",
      "execution_count": 47,
      "metadata": {
        "id": "qWbGHE5ej0Qm"
      },
      "outputs": [],
      "source": [
        "# Datos con los que vas a trabajar\n",
        "name = \"Moon\"\n",
        "gravity = 0.00162 # in kms\n",
        "planet = \"Earth\""
      ]
    },
    {
      "cell_type": "markdown",
      "metadata": {
        "id": "dyjC5quxj0Qo"
      },
      "source": [
        "Primero, crea un título para el texto. Debido a que este texto trata sobre la gravedad en la Tierra y la Luna, úsalo para crear un título significativo. Utiliza las variables en lugar de escribir."
      ]
    },
    {
      "cell_type": "code",
      "execution_count": 48,
      "metadata": {
        "id": "BanP3VQ0j0Qp"
      },
      "outputs": [],
      "source": [
        "# Creamos el título\n",
        "#Solución \n",
        "\n",
        "titulo=f\"Gravity in the {planet} and the {name}\".title()"
      ]
    },
    {
      "cell_type": "markdown",
      "metadata": {
        "id": "YU_WV3V6j0Qp"
      },
      "source": [
        "Ahora crea una plantilla de cadena multilínea para contener el resto de la información. En lugar de usar kilómetros, debes convertir la distancia a metros multiplicando por 1,000."
      ]
    },
    {
      "cell_type": "code",
      "execution_count": 49,
      "metadata": {
        "id": "HpzCTX6xj0Qq"
      },
      "outputs": [],
      "source": [
        "# Creamos la plantilla\n",
        "#Solución \n",
        "hechos = f\"\"\"{'-'*30} \n",
        "Nombre del planeta: {planet} \n",
        "Gravedad en {name}: {gravity * 1000} m/s2 \n",
        "\"\"\""
      ]
    },
    {
      "cell_type": "markdown",
      "metadata": {
        "id": "nqXpqMtej0Qr"
      },
      "source": [
        "Finalmente, usa ambas variables para unir el título y los hechos."
      ]
    },
    {
      "cell_type": "code",
      "execution_count": 50,
      "metadata": {
        "colab": {
          "base_uri": "https://localhost:8080/"
        },
        "id": "bSIlQbOfj0Qt",
        "outputId": "afb581be-ccad-4408-f547-d5c858012510"
      },
      "outputs": [
        {
          "name": "stdout",
          "output_type": "stream",
          "text": [
            "Gravity In The Earth And The Moon \n",
            "------------------------------ \n",
            "Nombre del planeta: Earth \n",
            "Gravedad en Moon: 1.6199999999999999 m/s2 \n",
            " \n",
            "\n"
          ]
        }
      ],
      "source": [
        "# Unión de ambas cadenas\n",
        "#Solución \n",
        "template = f\"\"\"{titulo} \n",
        "{hechos} \n",
        "\"\"\" \n",
        "print(template)"
      ]
    },
    {
      "cell_type": "markdown",
      "metadata": {
        "id": "6u2tuDDrj0Qu"
      },
      "source": [
        "Ahora usa información de una luna diferente para ver si la plantilla todavía funciona.\n",
        "\n",
        "Datos muestra: \n",
        "```\n",
        "planeta = 'Marte '\n",
        "gravedad  = 0.00143\n",
        "nombre = 'Ganímedes'\n",
        "```"
      ]
    },
    {
      "cell_type": "code",
      "execution_count": 51,
      "metadata": {
        "id": "XVTmIjsMuoiP"
      },
      "outputs": [],
      "source": [
        "planeta='Marte '\n",
        "gravedad= 0.00143\n",
        "nombre='Ganímedes'"
      ]
    },
    {
      "cell_type": "code",
      "execution_count": 52,
      "metadata": {
        "colab": {
          "base_uri": "https://localhost:8080/"
        },
        "id": "IhEWBTfyj0Qv",
        "outputId": "529f58a9-ebed-4f55-9215-6a3b68dececa"
      },
      "outputs": [
        {
          "name": "stdout",
          "output_type": "stream",
          "text": [
            "Gravity In The Earth And The Moon \n",
            "------------------------------ \n",
            "Nombre del planeta: Earth \n",
            "Gravedad en Moon: 1.6199999999999999 m/s2 \n",
            " \n",
            "\n"
          ]
        }
      ],
      "source": [
        "# Comprueba la plantilla\n",
        "# print(nombre_plantilla)\n",
        "\n",
        "#Solución \n",
        "template = f\"\"\"{titulo} \n",
        "{hechos} \n",
        "\"\"\" \n",
        "print(template)"
      ]
    },
    {
      "cell_type": "markdown",
      "metadata": {
        "id": "4_mgJbeFj0Qv"
      },
      "source": [
        "La salida no muestra información sobre Marte. Todavía muestra información sobre la Luna. Esto sucede porque las cadenas f están ansiosas en su evaluación, por lo que las variables una vez asignadas no se pueden reasignar. Para evitar este problema, vuelva a hacer la plantilla para utilizar .format():"
      ]
    },
    {
      "cell_type": "code",
      "execution_count": 56,
      "metadata": {
        "colab": {
          "base_uri": "https://localhost:8080/"
        },
        "id": "X24eQ1FKj0Qw",
        "outputId": "ccab327a-c232-4f91-d7c8-a40c8a3a8f10"
      },
      "outputs": [
        {
          "name": "stdout",
          "output_type": "stream",
          "text": [
            "\n",
            "Datos de Gravedad sobre: Ganímedes\n",
            "-------------------------------------------------------------------------------\n",
            "Nombre del planeta: Marte \n",
            "Gravedad en Ganímedes: 0.00143 m/s2\n",
            "\n"
          ]
        }
      ],
      "source": [
        "# Nueva plantilla\n",
        "new_template = \"\"\"\n",
        "Datos de Gravedad sobre: {nombre}\n",
        "-------------------------------------------------------------------------------\n",
        "Nombre del planeta: {planeta}\n",
        "Gravedad en {nombre}: {gravedad} m/s2\n",
        "\"\"\"\n",
        "print(new_template.format(nombre=nombre, planeta=planeta, gravedad=gravedad))"
      ]
    },
    {
      "cell_type": "markdown",
      "metadata": {
        "id": "krMwAP9Uj0Qx"
      },
      "source": [
        "Debido a que .format() no permite expresiones, la gravedad en Ganímedes es incorrecta. Asegúrese de que la operación se realiza fuera de la plantilla de formato e imprima de nuevo para ver el resultado de trabajo."
      ]
    },
    {
      "cell_type": "code",
      "execution_count": 57,
      "metadata": {
        "colab": {
          "base_uri": "https://localhost:8080/"
        },
        "id": "DARfhISLj0Qy",
        "outputId": "811416cf-0c6c-441c-881e-ff01a904bb5a"
      },
      "outputs": [
        {
          "name": "stdout",
          "output_type": "stream",
          "text": [
            "\n",
            "Datos de Gravedad sobre: Ganímedes\n",
            "-------------------------------------------------------------------------------\n",
            "Nombre del planeta: Marte \n",
            "Gravedad en Ganímedes: 1.4300000000000002 m/s2\n",
            "\n"
          ]
        }
      ],
      "source": [
        "# Pista: print(nueva_plantilla.format(variables))\n",
        "\n",
        "print(new_template.format(nombre=nombre, planeta=planeta, gravedad=gravedad*1000))"
      ]
    }
  ],
  "metadata": {
    "colab": {
      "collapsed_sections": [],
      "name": "Kata del Módulo 4.ipynb",
      "provenance": []
    },
    "interpreter": {
      "hash": "502cd6c3b6c9e666d195e1caff9d64ea12bf644e547a4c8fae84812082c54b6f"
    },
    "kernel_info": {
      "name": "conda-env-py37_default-py"
    },
    "kernelspec": {
      "display_name": "py37_default",
      "language": "python",
      "name": "python3"
    },
    "language_info": {
      "codemirror_mode": {
        "name": "ipython",
        "version": 3
      },
      "file_extension": ".py",
      "mimetype": "text/x-python",
      "name": "python",
      "nbconvert_exporter": "python",
      "pygments_lexer": "ipython3",
      "version": "3.10.2"
    },
    "nteract": {
      "version": "nteract-front-end@1.0.0"
    },
    "orig_nbformat": 4
  },
  "nbformat": 4,
  "nbformat_minor": 0
}
