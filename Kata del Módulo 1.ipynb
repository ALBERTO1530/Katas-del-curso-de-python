{
  "cells": [
    {
      "cell_type": "markdown",
      "metadata": {
        "id": "eWLFS7sIUU_y"
      },
      "source": [
        "# **Kata del Modulo 1**"
      ]
    },
    {
      "cell_type": "markdown",
      "metadata": {
        "id": "ZILyBfwcUZlB"
      },
      "source": [
        "\n",
        "# Ejercico 1: Mi primer programa.\n",
        "Finaliza el código siguiente para que el resultado muestre la fecha de hoy.\n",
        "\n",
        "from datetime import date\n",
        "\n",
        "print(\"Today's date is: \")"
      ]
    },
    {
      "cell_type": "code",
      "execution_count": 1,
      "metadata": {
        "colab": {
          "base_uri": "https://localhost:8080/"
        },
        "id": "qUPvo26KUxXH",
        "outputId": "221aaf5c-4ea3-4bc6-800c-dc05ec619594"
      },
      "outputs": [
        {
          "name": "stdout",
          "output_type": "stream",
          "text": [
            "Today's date is: 2022-02-17\n"
          ]
        }
      ],
      "source": [
        "#Solución \n",
        "\n",
        "from datetime import date\n",
        "print(\"Today's date is: \" + str(date.today()))"
      ]
    },
    {
      "cell_type": "markdown",
      "metadata": {
        "id": "vF_R8Be0Vm6X"
      },
      "source": [
        "# Ejercicio 2: Construir un convertidor de unidades\n",
        "\n",
        "El oficial superior> \"Necesito una cosa más: un programa de conversión entre parsecs y años luz. Tener un programa de este tipo podría ser realmente útil en el puente para trazar nuestro curso\".\n",
        "\n",
        "Tú> \"¡Lo haré!\"\n",
        "\n",
        "1 parsec es 3.26156 años luz"
      ]
    },
    {
      "cell_type": "code",
      "execution_count": 2,
      "metadata": {
        "colab": {
          "base_uri": "https://localhost:8080/"
        },
        "id": "2Kb9FDjFV9fy",
        "outputId": "12a66561-d576-4b39-e0a0-33069081b043"
      },
      "outputs": [
        {
          "name": "stdout",
          "output_type": "stream",
          "text": [
            "11 parsec, is 35.877159999999996 lightyears\n"
          ]
        }
      ],
      "source": [
        "#Solución \n",
        "\n",
        "parsec = 11\n",
        "lightyears = 3.26156 * parsec\n",
        "print(str(parsec) + \" parsec, is \" + str(lightyears) + \" lightyears\")"
      ]
    }
  ],
  "metadata": {
    "colab": {
      "name": "Copia de Untitled6.ipynb",
      "provenance": []
    },
    "kernelspec": {
      "display_name": "Python 3",
      "name": "python3"
    },
    "language_info": {
      "codemirror_mode": {
        "name": "ipython",
        "version": 3
      },
      "file_extension": ".py",
      "mimetype": "text/x-python",
      "name": "python",
      "nbconvert_exporter": "python",
      "pygments_lexer": "ipython3",
      "version": "3.10.2"
    }
  },
  "nbformat": 4,
  "nbformat_minor": 0
}
